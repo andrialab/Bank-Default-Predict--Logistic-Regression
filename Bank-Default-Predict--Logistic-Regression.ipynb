{
 "cells": [
  {
   "cell_type": "code",
   "execution_count": 212,
   "id": "d7e1d848-25b6-4e23-a9f1-41c42b5515f0",
   "metadata": {},
   "outputs": [],
   "source": [
    "import numpy as np\n",
    "import pandas as pd\n",
    "import datetime as dt\n",
    "from itertools import combinations\n",
    "from sklearn.metrics import roc_auc_score\n",
    "import statsmodels.api as sm\n",
    "import matplotlib.pyplot as plt"
   ]
  },
  {
   "cell_type": "code",
   "execution_count": 213,
   "id": "452b6be3-eb82-42d6-9741-d5f3f0fb4e2f",
   "metadata": {},
   "outputs": [],
   "source": [
    "#load two data set\n",
    "defaults = pd.read_pickle(\"default_data.pickle\")\n",
    "fininfo = pd.read_pickle(\"bank financials.pickle\")"
   ]
  },
  {
   "cell_type": "code",
   "execution_count": 214,
   "id": "a8fa4a0b-1a42-45a8-880c-ea283d231bd7",
   "metadata": {},
   "outputs": [
    {
     "name": "stdout",
     "output_type": "stream",
     "text": [
      "                         name   cert  \\\n",
      "0              Signature Bank  57053   \n",
      "1         Silicon Valley Bank  24735   \n",
      "2           Almena State Bank  15426   \n",
      "3  First City Bank Of Florida  16748   \n",
      "4        The First State Bank  14361   \n",
      "\n",
      "                                            buyer   dflt_date   IDRSSD  \\\n",
      "0                     Signature Bridge Bank, N.A.  2023-03-12  2942690   \n",
      "1  Deposit Insurance National Bank of Santa Clara  2023-03-10   802866   \n",
      "2                                     Equity Bank  2020-10-23   224552   \n",
      "3                       United Fidelity Bank, fsb  2020-10-16   695134   \n",
      "4                                  MVB Bank, Inc.  2020-04-03   627425   \n",
      "\n",
      "   default  \n",
      "0        1  \n",
      "1        1  \n",
      "2        1  \n",
      "3        1  \n",
      "4        1  \n",
      "    IDRSSD                        name mutual  trust    rssdhcr        date  \\\n",
      "0   991340             1st Source Bank  Stock      1  1199602.0  2001-12-31   \n",
      "1   282208       Abington Savings Bank  Stock      0  2521741.0  2001-12-31   \n",
      "2     5210  Adams County National Bank  Stock      1  1117464.0  2001-12-31   \n",
      "3   774730              Admiralty Bank  Stock      0  2142548.0  2001-12-31   \n",
      "4  2079493                Advance Bank  Stock      1  1137060.0  2001-12-31   \n",
      "\n",
      "      TII  nonII   nonIE  staff  ...      cash  securities      loans  \\\n",
      "0  236773  72464  112798   1135  ...  130135.0    620621.0  2306365.0   \n",
      "1   50492  12328   25420    277  ...   21689.0    277627.0   380837.0   \n",
      "2   39161   3298   13975    168  ...   21925.0    175017.0   358856.0   \n",
      "3   30363   1167   11839    117  ...   16275.0     17955.0   390457.0   \n",
      "4   41168   3964   19838    246  ...   12818.0    176529.0   403514.0   \n",
      "\n",
      "    deposits  allowance    equity    TCOs  tot_recoveries  offices  ones  \n",
      "0  5767558.0    57624.0  320511.0  3598.0             188       66   1.0  \n",
      "1   999000.0     5482.0   51238.0    73.0              37       14   1.0  \n",
      "2  1019216.0     3723.0   61521.0   167.0              52       18   1.0  \n",
      "3   899350.0     4844.0   42775.0     9.0               0       10   1.0  \n",
      "4   967834.0     3378.0   48741.0  3853.0              39       15   1.0  \n",
      "\n",
      "[5 rows x 21 columns]\n"
     ]
    }
   ],
   "source": [
    "#to see basic description\n",
    "print(defaults.head(5))\n",
    "print(fininfo.head(5))"
   ]
  },
  {
   "cell_type": "code",
   "execution_count": 215,
   "id": "a03bbd0f-3834-499b-bfed-40437bcf0ebb",
   "metadata": {},
   "outputs": [
    {
     "name": "stdout",
     "output_type": "stream",
     "text": [
      "             IDRSSD         trust       rssdhcr           TII         nonII  \\\n",
      "count  2.394600e+04  23946.000000  2.394600e+04  2.394600e+04  2.394600e+04   \n",
      "mean   9.625917e+05      0.522217  2.068502e+06  4.007928e+05  1.725831e+05   \n",
      "std    9.753336e+05      0.499517  1.108190e+06  3.233857e+06  1.730089e+06   \n",
      "min    5.050000e+02      0.000000  0.000000e+00  8.690000e+02 -5.786320e+05   \n",
      "25%    3.232040e+05      0.000000  1.123072e+06  2.694925e+04  3.650000e+03   \n",
      "50%    6.574590e+05      1.000000  1.651032e+06  4.133550e+04  7.339000e+03   \n",
      "75%    9.628900e+05      1.000000  2.943473e+06  8.620725e+04  1.899125e+04   \n",
      "max    5.349218e+06      1.000000  5.681262e+06  8.502210e+07  5.267500e+07   \n",
      "\n",
      "              nonIE          staff        assets          cash    securities  \\\n",
      "count  2.394600e+04   23946.000000  2.394600e+04  2.394600e+04  2.394600e+04   \n",
      "mean   2.879265e+05    1536.294371  1.515051e+07  9.172908e+05  2.451936e+06   \n",
      "std    2.474912e+06   11624.123175  1.428123e+08  1.241605e+07  2.442956e+07   \n",
      "min    4.800000e+02       0.000000  3.278460e+05  3.500000e+01  0.000000e+00   \n",
      "25%    1.621875e+04     130.000000  6.043025e+05  2.269750e+04  6.387825e+04   \n",
      "50%    2.602600e+04     206.000000  9.399795e+05  4.767950e+04  1.442440e+05   \n",
      "75%    5.511975e+04     408.000000  2.060472e+06  1.200700e+05  3.511780e+05   \n",
      "max    6.458300e+07  245351.000000  3.844112e+09  7.403950e+08  7.451800e+08   \n",
      "\n",
      "              loans      deposits     allowance        equity          TCOs  \\\n",
      "count  2.394600e+04  2.394600e+04  2.394600e+04  2.394600e+04  2.394600e+04   \n",
      "mean   5.784748e+06  1.564590e+07  1.073974e+05  1.132084e+06  1.646388e+04   \n",
      "std    4.443842e+07  1.388151e+08  1.031943e+06  9.874155e+06  1.877366e+05   \n",
      "min    3.000280e+05  0.000000e+00  0.000000e+00 -3.666000e+04 -2.071387e+06   \n",
      "25%    4.085175e+05  9.865988e+05  5.349250e+03  5.968900e+04  8.100000e+01   \n",
      "50%    6.259730e+05  1.532484e+06  8.730500e+03  9.510500e+04  3.940000e+02   \n",
      "75%    1.335722e+06  3.301930e+06  1.903275e+04  2.079742e+05  1.675750e+03   \n",
      "max    1.027590e+09  5.099262e+09  4.132503e+07  3.028480e+08  8.855836e+06   \n",
      "\n",
      "       tot_recoveries       offices     ones       default  \n",
      "count    2.394600e+04  23946.000000  23946.0  23946.000000  \n",
      "mean     2.840750e+03     56.489643      1.0      0.005137  \n",
      "std      2.919547e+04    306.828433      0.0      0.071487  \n",
      "min     -1.238630e+05      0.000000      1.0      0.000000  \n",
      "25%      1.400000e+01      8.000000      1.0      0.000000  \n",
      "50%      6.100000e+01     13.000000      1.0      0.000000  \n",
      "75%      2.490000e+02     24.000000      1.0      0.000000  \n",
      "max      1.237000e+06   6495.000000      1.0      1.000000  \n"
     ]
    }
   ],
   "source": [
    "#merge datasets\n",
    "data = pd.merge(fininfo, defaults[['IDRSSD', 'dflt_date']], on = 'IDRSSD', how = 'left')\n",
    "data.loc[pd.isnull(data.date), 'date'] = dt.date(2999,12,31)\n",
    "data['default'] = 0\n",
    "#sets a default to 1 anytime there is a default occurring 6 to 18 months after the statement date\n",
    "data.loc[(data.dflt_date >= (data.date + dt.timedelta(days=183))) & \n",
    "         (data.dflt_date < (data.date + dt.timedelta(days=548))), 'default'] = 1\n",
    "print(data.describe())"
   ]
  },
  {
   "cell_type": "code",
   "execution_count": 216,
   "id": "4902dd1c-20e8-44b1-a975-fd980d0cefc1",
   "metadata": {},
   "outputs": [],
   "source": [
    "# removing a troublesome record\n",
    "data = data[data.deposits > 0]\n",
    "#create original factors without filter and columns for them, we will filter them later\n",
    "data['revenue']=data['TII']+data['nonII']\n",
    "data['expense_to_revenue']=data['nonIE']/data['revenue']\n",
    "data['loans_to_deposits']=data['loans']/data['deposits']\n",
    "data['allowance_to_loans']=data['allowance']/data['loans']\n",
    "factors_original = ['assets','loans','expense_to_revenue','loans_to_deposits','allowance_to_loans']\n",
    "\n",
    "for i in ['TII', 'nonII', 'staff', 'securities', 'loans','deposits', 'equity','offices']:\n",
    "    data[i + '_to_assets'] = data[i] / data.assets\n",
    "    factors_original = factors_original + [i + '_to_assets']\n",
    "for i in ['cash','TCOs', 'tot_recoveries']:\n",
    "    data[i + '_to_loans'] = data[i] / data.loans\n",
    "    factors_original = factors_original + [i + '_to_loans']"
   ]
  },
  {
   "cell_type": "code",
   "execution_count": 217,
   "id": "43f9c21e-8ed8-42de-8645-b8441a086c14",
   "metadata": {},
   "outputs": [
    {
     "name": "stdout",
     "output_type": "stream",
     "text": [
      "           Factors_original  AUC_Scores  corr_with_default\n",
      "14            TCOs_to_loans    0.886155           0.227296\n",
      "4        allowance_to_loans    0.861824           0.140167\n",
      "5             TII_to_assets    0.755602           0.056043\n",
      "9           loans_to_assets    0.576869           0.017911\n",
      "10       deposits_to_assets    0.562657           0.004428\n",
      "3         loans_to_deposits    0.555574          -0.000461\n",
      "1                     loans    0.520251          -0.000317\n",
      "15  tot_recoveries_to_loans    0.496027           0.002898\n",
      "0                    assets    0.494998           0.000059\n",
      "2        expense_to_revenue    0.474425           0.012487\n",
      "13            cash_to_loans    0.436927          -0.005734\n",
      "12        offices_to_assets    0.430532          -0.016379\n",
      "7           staff_to_assets    0.407561          -0.021769\n",
      "8      securities_to_assets    0.369410          -0.032460\n",
      "6           nonII_to_assets    0.282126          -0.020504\n",
      "11         equity_to_assets    0.120110          -0.101721\n"
     ]
    }
   ],
   "source": [
    "#Single Factor Analysis\n",
    "#for all the factors, unning all of them would be untenable. so explore the corrlation first \n",
    "for i in factors_original:\n",
    "    factors_original_performance = pd.DataFrame({'Factors_original': factors_original,'AUC_Scores': [roc_auc_score(data.default, data[factor])  \n",
    "                 for factor in factors_original],'corr_with_default':[data[factor].corr(data.default) \n",
    "                     for factor in factors_original] })\n",
    "\n",
    "print(factors_original_performance.sort_values(by='AUC_Scores', ascending=False))"
   ]
  },
  {
   "cell_type": "code",
   "execution_count": 218,
   "id": "cb9d600a-5670-4892-bff6-1cc7e5a55b6e",
   "metadata": {},
   "outputs": [],
   "source": [
    "#According to the AUC score, we will choose \n",
    "#'TCOs_to_loans','allowance_to_loans', 'TII_to_assets',  'staff_to_assets', \n",
    "#'securities_to_assets', 'nonII_to_assets','equity_to_assets' as our factors"
   ]
  },
  {
   "cell_type": "code",
   "execution_count": 219,
   "id": "1f43190b-bd92-4f67-a1aa-a65e0e305efc",
   "metadata": {},
   "outputs": [],
   "source": [
    "#then run the iteration to generate all possible three-factor combinations of the factors\n",
    "factors=['TCOs_to_loans','allowance_to_loans', 'TII_to_assets',  'staff_to_assets', \n",
    "'securities_to_assets', 'nonII_to_assets','equity_to_assets']\n",
    "factor_combs = list(combinations(factors, 3))"
   ]
  },
  {
   "cell_type": "code",
   "execution_count": 220,
   "id": "edc32138-bff6-4d5d-832b-84fb7b33c948",
   "metadata": {},
   "outputs": [],
   "source": [
    "#remove combinations where there is two factors have correlation higher than 50%\n",
    "for i in factor_combs:\n",
    "    corr_test=data[list(i)].corr()\n",
    "    np.fill_diagonal(corr_test.values, 0)\n",
    "    if np.max(corr_test.values)>0.5:\n",
    "        factor_combs.remove(i)"
   ]
  },
  {
   "cell_type": "code",
   "execution_count": 221,
   "id": "1f92d2f4-8682-4048-9018-0a533437da3c",
   "metadata": {},
   "outputs": [
    {
     "name": "stdout",
     "output_type": "stream",
     "text": [
      "[('TCOs_to_loans', 'allowance_to_loans', 'staff_to_assets'), ('TCOs_to_loans', 'allowance_to_loans', 'nonII_to_assets'), ('TCOs_to_loans', 'TII_to_assets', 'staff_to_assets'), ('TCOs_to_loans', 'TII_to_assets', 'securities_to_assets'), ('TCOs_to_loans', 'TII_to_assets', 'nonII_to_assets'), ('TCOs_to_loans', 'TII_to_assets', 'equity_to_assets'), ('TCOs_to_loans', 'staff_to_assets', 'securities_to_assets'), ('TCOs_to_loans', 'staff_to_assets', 'nonII_to_assets'), ('TCOs_to_loans', 'staff_to_assets', 'equity_to_assets'), ('TCOs_to_loans', 'securities_to_assets', 'nonII_to_assets'), ('TCOs_to_loans', 'securities_to_assets', 'equity_to_assets'), ('TCOs_to_loans', 'nonII_to_assets', 'equity_to_assets'), ('allowance_to_loans', 'TII_to_assets', 'staff_to_assets'), ('allowance_to_loans', 'TII_to_assets', 'securities_to_assets'), ('allowance_to_loans', 'TII_to_assets', 'nonII_to_assets'), ('allowance_to_loans', 'TII_to_assets', 'equity_to_assets'), ('allowance_to_loans', 'staff_to_assets', 'securities_to_assets'), ('allowance_to_loans', 'staff_to_assets', 'nonII_to_assets'), ('allowance_to_loans', 'staff_to_assets', 'equity_to_assets'), ('allowance_to_loans', 'securities_to_assets', 'nonII_to_assets'), ('allowance_to_loans', 'securities_to_assets', 'equity_to_assets'), ('allowance_to_loans', 'nonII_to_assets', 'equity_to_assets'), ('TII_to_assets', 'staff_to_assets', 'securities_to_assets'), ('TII_to_assets', 'staff_to_assets', 'nonII_to_assets'), ('TII_to_assets', 'staff_to_assets', 'equity_to_assets'), ('TII_to_assets', 'securities_to_assets', 'nonII_to_assets'), ('TII_to_assets', 'securities_to_assets', 'equity_to_assets'), ('TII_to_assets', 'nonII_to_assets', 'equity_to_assets'), ('staff_to_assets', 'securities_to_assets', 'nonII_to_assets'), ('staff_to_assets', 'securities_to_assets', 'equity_to_assets'), ('staff_to_assets', 'nonII_to_assets', 'equity_to_assets'), ('securities_to_assets', 'nonII_to_assets', 'equity_to_assets')]\n"
     ]
    }
   ],
   "source": [
    "print(factor_combs)"
   ]
  },
  {
   "cell_type": "code",
   "execution_count": 222,
   "id": "790ee41b-8db7-465a-88c4-192c58f5cbf6",
   "metadata": {},
   "outputs": [
    {
     "name": "stdout",
     "output_type": "stream",
     "text": [
      "Optimization terminated successfully    (Exit mode 0)\n",
      "            Current function value: 0.02769549823094834\n",
      "            Iterations: 51\n",
      "            Function evaluations: 52\n",
      "            Gradient evaluations: 51\n",
      "Optimization terminated successfully    (Exit mode 0)\n",
      "            Current function value: 0.02566349632158854\n",
      "            Iterations: 68\n",
      "            Function evaluations: 68\n",
      "            Gradient evaluations: 68\n"
     ]
    },
    {
     "name": "stderr",
     "output_type": "stream",
     "text": [
      "/var/folders/4v/0vy3yz1525v5z1h309ckrv140000gn/T/ipykernel_16781/2978835941.py:9: FutureWarning: Setting an item of incompatible dtype is deprecated and will raise in a future error of pandas. Value '0.13992280779715616' has dtype incompatible with int64, please explicitly cast to a compatible dtype first.\n",
      "  models_performance.loc[i,'R^2']=model.prsquared #store pseudo-R-squared for each model\n",
      "/var/folders/4v/0vy3yz1525v5z1h309ckrv140000gn/T/ipykernel_16781/2978835941.py:10: FutureWarning: Setting an item of incompatible dtype is deprecated and will raise in a future error of pandas. Value '0.8981470294931311' has dtype incompatible with int64, please explicitly cast to a compatible dtype first.\n",
      "  models_performance.loc[i,'AUC Score']=roc_auc_score(y,model.predict()) #store AUC for each model\n"
     ]
    },
    {
     "name": "stdout",
     "output_type": "stream",
     "text": [
      "Optimization terminated successfully    (Exit mode 0)\n",
      "            Current function value: 0.027867975075292355\n",
      "            Iterations: 54\n",
      "            Function evaluations: 54\n",
      "            Gradient evaluations: 54\n",
      "Optimization terminated successfully    (Exit mode 0)\n",
      "            Current function value: 0.02735786983362015\n",
      "            Iterations: 68\n",
      "            Function evaluations: 68\n",
      "            Gradient evaluations: 68\n",
      "Optimization terminated successfully    (Exit mode 0)\n",
      "            Current function value: 0.026357014831589448\n",
      "            Iterations: 69\n",
      "            Function evaluations: 70\n",
      "            Gradient evaluations: 69\n",
      "Optimization terminated successfully    (Exit mode 0)\n",
      "            Current function value: 0.022421412283533556\n",
      "            Iterations: 71\n",
      "            Function evaluations: 72\n",
      "            Gradient evaluations: 71\n",
      "Optimization terminated successfully    (Exit mode 0)\n",
      "            Current function value: 0.027374421379087834\n",
      "            Iterations: 49\n",
      "            Function evaluations: 49\n",
      "            Gradient evaluations: 49\n",
      "Optimization terminated successfully    (Exit mode 0)\n",
      "            Current function value: 0.026684128936792974\n",
      "            Iterations: 50\n",
      "            Function evaluations: 50\n",
      "            Gradient evaluations: 50\n",
      "Optimization terminated successfully    (Exit mode 0)\n",
      "            Current function value: 0.023654534501946232\n",
      "            Iterations: 47\n",
      "            Function evaluations: 47\n",
      "            Gradient evaluations: 47\n",
      "Optimization terminated successfully    (Exit mode 0)\n",
      "            Current function value: 0.026243525706048296\n",
      "            Iterations: 62\n",
      "            Function evaluations: 62\n",
      "            Gradient evaluations: 62\n",
      "Optimization terminated successfully    (Exit mode 0)\n",
      "            Current function value: 0.023148358054317596\n",
      "            Iterations: 62\n",
      "            Function evaluations: 63\n",
      "            Gradient evaluations: 62\n",
      "Optimization terminated successfully    (Exit mode 0)\n",
      "            Current function value: 0.02307824537863414\n",
      "            Iterations: 66\n",
      "            Function evaluations: 67\n",
      "            Gradient evaluations: 66\n",
      "Optimization terminated successfully    (Exit mode 0)\n",
      "            Current function value: 0.02996090579160761\n",
      "            Iterations: 48\n",
      "            Function evaluations: 48\n",
      "            Gradient evaluations: 48\n",
      "Optimization terminated successfully    (Exit mode 0)\n",
      "            Current function value: 0.029362972842006823\n",
      "            Iterations: 65\n",
      "            Function evaluations: 65\n",
      "            Gradient evaluations: 65\n",
      "Optimization terminated successfully    (Exit mode 0)\n",
      "            Current function value: 0.0277021387487245\n",
      "            Iterations: 60\n",
      "            Function evaluations: 60\n",
      "            Gradient evaluations: 60\n",
      "Optimization terminated successfully    (Exit mode 0)\n",
      "            Current function value: 0.023215957083675718\n",
      "            Iterations: 68\n",
      "            Function evaluations: 68\n",
      "            Gradient evaluations: 68\n",
      "Optimization terminated successfully    (Exit mode 0)\n",
      "            Current function value: 0.029421240526093347\n",
      "            Iterations: 50\n",
      "            Function evaluations: 50\n",
      "            Gradient evaluations: 50\n",
      "Optimization terminated successfully    (Exit mode 0)\n",
      "            Current function value: 0.02772172167347773\n",
      "            Iterations: 46\n",
      "            Function evaluations: 46\n",
      "            Gradient evaluations: 46\n",
      "Optimization terminated successfully    (Exit mode 0)\n",
      "            Current function value: 0.024293433760226264\n",
      "            Iterations: 52\n",
      "            Function evaluations: 53\n",
      "            Gradient evaluations: 52\n",
      "Optimization terminated successfully    (Exit mode 0)\n",
      "            Current function value: 0.027361218440819433\n",
      "            Iterations: 66\n",
      "            Function evaluations: 66\n",
      "            Gradient evaluations: 66\n",
      "Optimization terminated successfully    (Exit mode 0)\n",
      "            Current function value: 0.023792328200137776\n",
      "            Iterations: 66\n",
      "            Function evaluations: 66\n",
      "            Gradient evaluations: 66\n",
      "Optimization terminated successfully    (Exit mode 0)\n",
      "            Current function value: 0.023603612609344887\n",
      "            Iterations: 68\n",
      "            Function evaluations: 69\n",
      "            Gradient evaluations: 68\n",
      "Optimization terminated successfully    (Exit mode 0)\n",
      "            Current function value: 0.03097190440081227\n",
      "            Iterations: 50\n",
      "            Function evaluations: 50\n",
      "            Gradient evaluations: 50\n",
      "Optimization terminated successfully    (Exit mode 0)\n",
      "            Current function value: 0.030172399366170895\n",
      "            Iterations: 46\n",
      "            Function evaluations: 46\n",
      "            Gradient evaluations: 46\n",
      "Optimization terminated successfully    (Exit mode 0)\n",
      "            Current function value: 0.023502437860191933\n",
      "            Iterations: 52\n",
      "            Function evaluations: 52\n",
      "            Gradient evaluations: 52\n",
      "Optimization terminated successfully    (Exit mode 0)\n",
      "            Current function value: 0.02989018255869653\n",
      "            Iterations: 65\n",
      "            Function evaluations: 65\n",
      "            Gradient evaluations: 65\n",
      "Optimization terminated successfully    (Exit mode 0)\n",
      "            Current function value: 0.02318568051610069\n",
      "            Iterations: 69\n",
      "            Function evaluations: 69\n",
      "            Gradient evaluations: 69\n",
      "Optimization terminated successfully    (Exit mode 0)\n",
      "            Current function value: 0.022710830780542614\n",
      "            Iterations: 70\n",
      "            Function evaluations: 70\n",
      "            Gradient evaluations: 70\n",
      "Optimization terminated successfully    (Exit mode 0)\n",
      "            Current function value: 0.03057836741731187\n",
      "            Iterations: 43\n",
      "            Function evaluations: 43\n",
      "            Gradient evaluations: 43\n",
      "Optimization terminated successfully    (Exit mode 0)\n",
      "            Current function value: 0.02518480256433351\n",
      "            Iterations: 45\n",
      "            Function evaluations: 45\n",
      "            Gradient evaluations: 45\n",
      "Optimization terminated successfully    (Exit mode 0)\n",
      "            Current function value: 0.02490936734732008\n",
      "            Iterations: 53\n",
      "            Function evaluations: 53\n",
      "            Gradient evaluations: 53\n",
      "Optimization terminated successfully    (Exit mode 0)\n",
      "            Current function value: 0.024493157930625394\n",
      "            Iterations: 66\n",
      "            Function evaluations: 66\n",
      "            Gradient evaluations: 66\n",
      "                                        Factors_combs       R^2  AUC Score\n",
      "0   (TCOs_to_loans, allowance_to_loans, staff_to_a...  0.139923   0.898147\n",
      "1   (TCOs_to_loans, allowance_to_loans, nonII_to_a...  0.203026   0.900860\n",
      "2     (TCOs_to_loans, TII_to_assets, staff_to_assets)  0.134567   0.915523\n",
      "3   (TCOs_to_loans, TII_to_assets, securities_to_a...  0.150408   0.864484\n",
      "4     (TCOs_to_loans, TII_to_assets, nonII_to_assets)  0.181489   0.905951\n",
      "5    (TCOs_to_loans, TII_to_assets, equity_to_assets)  0.303708   0.934174\n",
      "6   (TCOs_to_loans, staff_to_assets, securities_to...  0.149894   0.856076\n",
      "7   (TCOs_to_loans, staff_to_assets, nonII_to_assets)  0.171331   0.872746\n",
      "8   (TCOs_to_loans, staff_to_assets, equity_to_ass...  0.265414   0.908897\n",
      "9   (TCOs_to_loans, securities_to_assets, nonII_to...  0.185013   0.877213\n",
      "10  (TCOs_to_loans, securities_to_assets, equity_t...  0.281133   0.922413\n",
      "11  (TCOs_to_loans, nonII_to_assets, equity_to_ass...  0.283311   0.920508\n",
      "12  (allowance_to_loans, TII_to_assets, staff_to_a...  0.069571   0.849018\n",
      "13  (allowance_to_loans, TII_to_assets, securities...  0.088140   0.828356\n",
      "14  (allowance_to_loans, TII_to_assets, nonII_to_a...  0.139717   0.876515\n",
      "15  (allowance_to_loans, TII_to_assets, equity_to_...  0.279034   0.930540\n",
      "16  (allowance_to_loans, staff_to_assets, securiti...  0.086330   0.851620\n",
      "17  (allowance_to_loans, staff_to_assets, nonII_to...  0.139108   0.869123\n",
      "18  (allowance_to_loans, staff_to_assets, equity_t...  0.245573   0.907899\n",
      "19  (allowance_to_loans, securities_to_assets, non...  0.150304   0.882325\n",
      "20  (allowance_to_loans, securities_to_assets, equ...  0.261135   0.926054\n",
      "21  (allowance_to_loans, nonII_to_assets, equity_t...  0.266995   0.922686\n",
      "22  (TII_to_assets, staff_to_assets, securities_to...  0.038175   0.720800\n",
      "23  (TII_to_assets, staff_to_assets, nonII_to_assets)  0.063003   0.791621\n",
      "24  (TII_to_assets, staff_to_assets, equity_to_ass...  0.270137   0.922887\n",
      "25  (TII_to_assets, securities_to_assets, nonII_to...  0.071767   0.790343\n",
      "26  (TII_to_assets, securities_to_assets, equity_t...  0.279974   0.932212\n",
      "27  (TII_to_assets, nonII_to_assets, equity_to_ass...  0.294720   0.937514\n",
      "28  (staff_to_assets, securities_to_assets, nonII_...  0.050396   0.731575\n",
      "29  (staff_to_assets, securities_to_assets, equity...  0.217892   0.900931\n",
      "30  (staff_to_assets, nonII_to_assets, equity_to_a...  0.226445   0.898555\n",
      "31  (securities_to_assets, nonII_to_assets, equity...  0.239371   0.913572\n"
     ]
    }
   ],
   "source": [
    "#run logit reg model\n",
    "#create dataframe to store performance of each model\n",
    "models_performance=pd.DataFrame({'Factors_combs': factor_combs,'R^2':0,'AUC Score':0})\n",
    "y=data.default\n",
    "for i in range(len(factor_combs)):\n",
    "    x=data[list(factor_combs[i])]\n",
    "    x=sm.add_constant(x) #add constant to variables\n",
    "    model = sm.Logit(y, x).fit_regularized(method='l1') #fit the model\n",
    "    models_performance.loc[i,'R^2']=model.prsquared #store pseudo-R-squared for each model\n",
    "    models_performance.loc[i,'AUC Score']=roc_auc_score(y,model.predict()) #store AUC for each model\n",
    "print(models_performance)"
   ]
  },
  {
   "cell_type": "code",
   "execution_count": 223,
   "id": "d8d474f9-97f8-4bda-9419-5e0b3981a7f4",
   "metadata": {},
   "outputs": [
    {
     "name": "stdout",
     "output_type": "stream",
     "text": [
      "                                        Factors_combs       R^2  AUC Score\n",
      "0    (TCOs_to_loans, TII_to_assets, equity_to_assets)  0.303708   0.934174\n",
      "1   (TII_to_assets, nonII_to_assets, equity_to_ass...  0.294720   0.937514\n",
      "2   (TCOs_to_loans, nonII_to_assets, equity_to_ass...  0.283311   0.920508\n",
      "3   (TCOs_to_loans, securities_to_assets, equity_t...  0.281133   0.922413\n",
      "4   (TII_to_assets, securities_to_assets, equity_t...  0.279974   0.932212\n",
      "5   (allowance_to_loans, TII_to_assets, equity_to_...  0.279034   0.930540\n",
      "6   (TII_to_assets, staff_to_assets, equity_to_ass...  0.270137   0.922887\n",
      "7   (allowance_to_loans, nonII_to_assets, equity_t...  0.266995   0.922686\n",
      "8   (TCOs_to_loans, staff_to_assets, equity_to_ass...  0.265414   0.908897\n",
      "9   (allowance_to_loans, securities_to_assets, equ...  0.261135   0.926054\n",
      "10  (allowance_to_loans, staff_to_assets, equity_t...  0.245573   0.907899\n",
      "11  (securities_to_assets, nonII_to_assets, equity...  0.239371   0.913572\n",
      "12  (staff_to_assets, nonII_to_assets, equity_to_a...  0.226445   0.898555\n",
      "13  (staff_to_assets, securities_to_assets, equity...  0.217892   0.900931\n",
      "14  (TCOs_to_loans, allowance_to_loans, nonII_to_a...  0.203026   0.900860\n",
      "15  (TCOs_to_loans, securities_to_assets, nonII_to...  0.185013   0.877213\n",
      "16    (TCOs_to_loans, TII_to_assets, nonII_to_assets)  0.181489   0.905951\n",
      "17  (TCOs_to_loans, staff_to_assets, nonII_to_assets)  0.171331   0.872746\n",
      "18  (TCOs_to_loans, TII_to_assets, securities_to_a...  0.150408   0.864484\n",
      "19  (allowance_to_loans, securities_to_assets, non...  0.150304   0.882325\n",
      "20  (TCOs_to_loans, staff_to_assets, securities_to...  0.149894   0.856076\n",
      "21  (TCOs_to_loans, allowance_to_loans, staff_to_a...  0.139923   0.898147\n",
      "22  (allowance_to_loans, TII_to_assets, nonII_to_a...  0.139717   0.876515\n",
      "23  (allowance_to_loans, staff_to_assets, nonII_to...  0.139108   0.869123\n",
      "24    (TCOs_to_loans, TII_to_assets, staff_to_assets)  0.134567   0.915523\n",
      "25  (allowance_to_loans, TII_to_assets, securities...  0.088140   0.828356\n",
      "26  (allowance_to_loans, staff_to_assets, securiti...  0.086330   0.851620\n",
      "27  (TII_to_assets, securities_to_assets, nonII_to...  0.071767   0.790343\n",
      "28  (allowance_to_loans, TII_to_assets, staff_to_a...  0.069571   0.849018\n",
      "29  (TII_to_assets, staff_to_assets, nonII_to_assets)  0.063003   0.791621\n",
      "30  (staff_to_assets, securities_to_assets, nonII_...  0.050396   0.731575\n",
      "31  (TII_to_assets, staff_to_assets, securities_to...  0.038175   0.720800\n"
     ]
    }
   ],
   "source": [
    "#sort the model according to their R^2 and reset index\n",
    "sorted_models = models_performance.sort_values(by='R^2', ascending=False)\n",
    "sorted_models =sorted_models_performance.reset_index(drop=True)\n",
    "print(sorted_models)"
   ]
  },
  {
   "cell_type": "code",
   "execution_count": 224,
   "id": "54adeb2d-97da-4550-a8dd-178b72dd89f8",
   "metadata": {},
   "outputs": [],
   "source": [
    "#based on the model,(TCOs_to_loans, TII_to_assets, equity_to_assets) is the best combination\n",
    "#R^2 =0.303708 and AUC Score = 0.934174\n",
    "#apply it to predict what would Silicon Valley Bank and Signature Bank happen before its bankruptcy "
   ]
  },
  {
   "cell_type": "code",
   "execution_count": 225,
   "id": "45e6c200-bdb0-403d-8520-bcde6a8ad927",
   "metadata": {},
   "outputs": [
    {
     "name": "stdout",
     "output_type": "stream",
     "text": [
      "Optimization terminated successfully    (Exit mode 0)\n",
      "            Current function value: 0.022421412283533556\n",
      "            Iterations: 71\n",
      "            Function evaluations: 72\n",
      "            Gradient evaluations: 71\n"
     ]
    }
   ],
   "source": [
    "y=data.default\n",
    "x=data[['TCOs_to_loans','TII_to_assets', 'equity_to_assets']]\n",
    "x=sm.add_constant(x) #add constant to variables\n",
    "model = sm.Logit(y, x).fit_regularized(method='l1') #fit the model\n",
    "data['predict_PD']=model.predict()"
   ]
  },
  {
   "cell_type": "code",
   "execution_count": 226,
   "id": "8abc0c71-5278-441b-a1ab-e5dcac298bac",
   "metadata": {},
   "outputs": [
    {
     "data": {
      "image/png": "[encoded data removed]",
      "text/plain": [
       "<Figure size 640x480 with 1 Axes>"
      ]
     },
     "metadata": {},
     "output_type": "display_data"
    },
    {
     "name": "stdout",
     "output_type": "stream",
     "text": [
      "tail= 8.229725003455314e-05\n"
     ]
    }
   ],
   "source": [
    "#show the distribution for all the predicted PD and the 95% tail\n",
    "plt.hist(data['predict_PD'], bins=100, range=(0, 0.01), edgecolor='black')\n",
    "plt.title('Histogram of Predicted PD')\n",
    "plt.xlabel('Predicted Probability of Default')\n",
    "plt.ylabel('Frequency')\n",
    "plt.axvline(data['predict_PD'].quantile(0.05), color='red', linestyle='--', label=data['predict_PD'].quantile(0.05))\n",
    "plt.show()\n",
    "tail=data['predict_PD'].quantile(0.05)\n",
    "print('tail=',data['predict_PD'].quantile(0.05))"
   ]
  },
  {
   "cell_type": "code",
   "execution_count": 227,
   "id": "992a083b-36f3-4219-8e18-0582bd37417f",
   "metadata": {},
   "outputs": [
    {
     "name": "stdout",
     "output_type": "stream",
     "text": [
      "1    802866\n",
      "Name: IDRSSD, dtype: int64\n",
      "0      2942690\n",
      "169    3264782\n",
      "Name: IDRSSD, dtype: int64\n"
     ]
    }
   ],
   "source": [
    "#find lines and id for Silicon Valley Bank and Signature Bank\n",
    "SVB_id=defaults[defaults['name'].str.contains('silicon', case=False, na=False)].IDRSSD\n",
    "SB_id=defaults[defaults['name'].str.contains('signature', case=False, na=False)].IDRSSD\n",
    "print(SVB_id)\n",
    "print(SB_id)"
   ]
  },
  {
   "cell_type": "code",
   "execution_count": 228,
   "id": "a373e7a1-08e7-425e-9d0c-8e0fadcd3b74",
   "metadata": {},
   "outputs": [
    {
     "name": "stdout",
     "output_type": "stream",
     "text": [
      "                      name        date  predict_PD Worse than 95%\n",
      "463    Silicon Valley Bank  2001-12-31    0.002172           true\n",
      "1133   Silicon Valley Bank  2002-12-31    0.001026           true\n",
      "1843   Silicon Valley Bank  2003-12-31    0.001136           true\n",
      "2645   Silicon Valley Bank  2004-12-31    0.013367           true\n",
      "3557   Silicon Valley Bank  2005-12-31    0.013202           true\n",
      "4568   Silicon Valley Bank  2006-12-31    0.015183           true\n",
      "5662   Silicon Valley Bank  2007-12-31    0.021240           true\n",
      "6797   Silicon Valley Bank  2008-12-31    0.027989           true\n",
      "7927   Silicon Valley Bank  2009-12-31    0.028886           true\n",
      "8986   Silicon Valley Bank  2010-12-31    0.025458           true\n",
      "10010  Silicon Valley Bank  2011-12-31    0.021040           true\n",
      "11022  Silicon Valley Bank  2012-12-31    0.019441           true\n",
      "12068  Silicon Valley Bank  2013-12-31    0.024404           true\n",
      "13157  Silicon Valley Bank  2014-12-31    0.022750           true\n",
      "14302  Silicon Valley Bank  2015-12-31    0.019671           true\n",
      "15720  SILICON VALLEY BANK  2016-12-31    0.016782           true\n",
      "17242  SILICON VALLEY BANK  2017-12-31    0.003480           true\n",
      "18782  SILICON VALLEY BANK  2018-12-31    0.002925           true\n",
      "20327  SILICON VALLEY BANK  2019-12-31    0.004638           true\n",
      "21941  SILICON VALLEY BANK  2020-12-31    0.005244           true\n",
      "23568  SILICON VALLEY BANK  2021-12-31    0.002685           true\n"
     ]
    }
   ],
   "source": [
    "#get the subdata set for Silicon Valley Bank and Signature Bank\n",
    "SVB= data.loc[data['IDRSSD']==802866,['name','date','predict_PD']]\n",
    "SVB['Worse than 95%'] = SVB['predict_PD'].apply(lambda x: 'true' if x > tail else 'not')\n",
    "print(SVB)"
   ]
  },
  {
   "cell_type": "code",
   "execution_count": 229,
   "id": "4243d291-7c38-4d0e-a55d-bb5f6d674ff7",
   "metadata": {},
   "outputs": [
    {
     "name": "stdout",
     "output_type": "stream",
     "text": [
      "                 name        date  predict_PD Worse than 95%\n",
      "1842   Signature Bank  2003-12-31    0.002395           true\n",
      "2644   Signature Bank  2004-12-31    0.000653           true\n",
      "3556   Signature Bank  2005-12-31    0.003115           true\n",
      "15716  SIGNATURE BANK  2016-12-31    0.001431           true\n",
      "17238  SIGNATURE BANK  2017-12-31    0.001416           true\n",
      "18778  SIGNATURE BANK  2018-12-31    0.001473           true\n",
      "20323  SIGNATURE BANK  2019-12-31    0.001459           true\n",
      "21937  SIGNATURE BANK  2020-12-31    0.002455           true\n",
      "23564  SIGNATURE BANK  2021-12-31    0.003978           true\n"
     ]
    }
   ],
   "source": [
    "SB = data.loc[(data['IDRSSD'] == 2942690) | (data['IDRSSD'] == 3264782), ['name', 'date', 'predict_PD']]\n",
    "SB['Worse than 95%'] = SB['predict_PD'].apply(lambda x: 'true' if x > tail else 'not')\n",
    "print(SB)"
   ]
  },
  {
   "cell_type": "code",
   "execution_count": 230,
   "id": "67b3aaea-57fe-481e-bec9-c781605bb527",
   "metadata": {},
   "outputs": [],
   "source": [
    "# base on the model, both SVB and Signature bank's predicted PD is worse than 95%\n",
    "#signaling their bad financial status and forecast their default"
   ]
  }
 ],
 "metadata": {
  "kernelspec": {
   "display_name": "Python 3 (ipykernel)",
   "language": "python",
   "name": "python3"
  },
  "language_info": {
   "codemirror_mode": {
    "name": "ipython",
    "version": 3
   },
   "file_extension": ".py",
   "mimetype": "text/x-python",
   "name": "python",
   "nbconvert_exporter": "python",
   "pygments_lexer": "ipython3",
   "version": "3.11.7"
  }
 },
 "nbformat": 4,
 "nbformat_minor": 5
}
